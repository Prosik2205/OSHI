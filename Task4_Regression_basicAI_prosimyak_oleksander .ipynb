{
 "cells": [
  {
   "cell_type": "markdown",
   "metadata": {
    "id": "fw_CSA8lOFYZ"
   },
   "source": [
    "## Лабораторна робота 4. **REGRESSION** 📈"
   ]
  },
  {
   "cell_type": "markdown",
   "metadata": {
    "id": "IeMC6xnfOFYa"
   },
   "source": [
    "# Опис вибірки \"Motorbike Ambulance Calls\""
   ]
  },
  {
   "cell_type": "markdown",
   "metadata": {
    "id": "kWTcPp7HOFYb"
   },
   "source": [
    "\n",
    "Аварії за участю мотоциклів та відповідні виклики швидкої допомоги сильно залежать від екологічних та сезонних умов, таких як погодні умови, опади, день тижня, сезон, година дня тощо. Дані збирались протягом двох років щогодини та потім співвідносилися з відповідною погодою та сезонністю."
   ]
  },
  {
   "cell_type": "markdown",
   "metadata": {
    "id": "YtPLqroLOFYc"
   },
   "source": [
    "Основні характеристики вибірки `motorbike_ambulance_calls.csv`:\n",
    "\n",
    "              - index: record index\n",
    "              - date : date\n",
    "              - season : season (1:springer, 2:summer, 3:fall, 4:winter)\n",
    "              - yr : year (0: 2011, 1:2012)\n",
    "              - mnth : month ( 1 to 12)\n",
    "              - hr : hour (0 to 23)\n",
    "              - holiday : whether day is holiday or not\n",
    "              - weekday : day of the week\n",
    "              - workingday : if day is neither weekend nor holiday is 1, otherwise is 0.\n",
    "              -  weathersit :\n",
    "                      - 1: Clear, Few clouds, Partly cloudy, Partly cloudy\n",
    "                      - 2: Mist + Cloudy, Mist + Broken clouds, Mist + Few clouds, Mist\n",
    "                      - 3: Light Snow, Light Rain + Thunderstorm + Scattered clouds, Light Rain + Scattered clouds\n",
    "                      - 4: Heavy Rain + Ice Pallets + Thunderstorm + Mist, Snow + Fog\n",
    "              - temp : Normalized temperature in Celsius. The values are divided to 41 (max)\n",
    "              - atemp: Normalized feeling temperature in Celsius. The values are divided to 50 (max)\n",
    "              - hum: Normalized humidity. The values are divided to 100 (max)\n",
    "              - windspeed: Normalized wind speed. The values are divided to 67 (max)\n",
    "              - cnt: count of total ambulance calls"
   ]
  },
  {
   "cell_type": "markdown",
   "metadata": {
    "id": "LYXSslcIOFYc"
   },
   "source": [
    "## Імпорт необхідних бібліотек та завантаження даних"
   ]
  },
  {
   "cell_type": "markdown",
   "metadata": {
    "id": "pTFWHvM6OFYc"
   },
   "source": [
    "**Завдання 1** підготовка даних до опрацювання\n",
    "\n",
    "1. завантажте вибірку `motorbike_ambulance_calls.csv`;   \n",
    "2. підключіть необхідні бібліотеки;  \n",
    "3. вивести основну статистичну інформацію по числовим змінним;  \n",
    "4. окремо вивести максимальні та мінімальні значення по всім змінним;  \n",
    "5. вивести розмірність датасету;"
   ]
  },
  {
   "cell_type": "code",
   "execution_count": 41,
   "metadata": {
    "id": "xmwhs0cnOFYd"
   },
   "outputs": [],
   "source": [
    "import pandas as pd\n",
    "import numpy as np\n",
    "import scipy as sc\n",
    "from sklearn.model_selection import train_test_split\n",
    "from sklearn.linear_model import LinearRegression\n",
    "from sklearn.metrics import mean_squared_error, r2_score\n",
    "import matplotlib.pyplot as plt\n",
    "import seaborn as sns\n",
    "%matplotlib inline"
   ]
  },
  {
   "cell_type": "code",
   "execution_count": 42,
   "metadata": {
    "id": "7qXErcPRPH6R"
   },
   "outputs": [],
   "source": [
    "def get_data(data_path: str):\n",
    "  data = pd.read_csv(data_path)\n",
    "  return data"
   ]
  },
  {
   "cell_type": "code",
   "execution_count": null,
   "metadata": {},
   "outputs": [],
   "source": []
  },
  {
   "cell_type": "code",
   "execution_count": 43,
   "metadata": {
    "id": "YEsA-KVhVylk"
   },
   "outputs": [
    {
     "name": "stdout",
     "output_type": "stream",
     "text": [
      "Основна статистична інформація по числовим змінним:\n",
      "            index            yr          mnth            hr       holiday  \\\n",
      "count  17379.0000  17379.000000  17379.000000  17379.000000  17379.000000   \n",
      "mean    8690.0000      0.502561      6.537775     11.546752      0.028770   \n",
      "std     5017.0295      0.500008      3.438776      6.914405      0.167165   \n",
      "min        1.0000      0.000000      1.000000      0.000000      0.000000   \n",
      "25%     4345.5000      0.000000      4.000000      6.000000      0.000000   \n",
      "50%     8690.0000      1.000000      7.000000     12.000000      0.000000   \n",
      "75%    13034.5000      1.000000     10.000000     18.000000      0.000000   \n",
      "max    17379.0000      1.000000     12.000000     23.000000      1.000000   \n",
      "\n",
      "            weekday    workingday    weathersit          temp         atemp  \\\n",
      "count  17379.000000  17379.000000  17379.000000  17379.000000  17379.000000   \n",
      "mean       3.003683      0.682721      1.425283      0.496987      0.475775   \n",
      "std        2.005771      0.465431      0.639357      0.192556      0.171850   \n",
      "min        0.000000      0.000000      1.000000      0.020000      0.000000   \n",
      "25%        1.000000      0.000000      1.000000      0.340000      0.333300   \n",
      "50%        3.000000      1.000000      1.000000      0.500000      0.484800   \n",
      "75%        5.000000      1.000000      2.000000      0.660000      0.621200   \n",
      "max        6.000000      1.000000      4.000000      1.000000      1.000000   \n",
      "\n",
      "                hum     windspeed           cnt  \n",
      "count  17379.000000  17379.000000  17379.000000  \n",
      "mean       0.627229      0.190098    189.463088  \n",
      "std        0.192930      0.122340    181.387599  \n",
      "min        0.000000      0.000000      1.000000  \n",
      "25%        0.480000      0.104500     40.000000  \n",
      "50%        0.630000      0.194000    142.000000  \n",
      "75%        0.780000      0.253700    281.000000  \n",
      "max        1.000000      0.850700    977.000000  \n",
      "\n",
      "Максимальне значення по всім зміним:\n",
      "index          17379\n",
      "date          9/9/12\n",
      "season        winter\n",
      "yr                 1\n",
      "mnth              12\n",
      "hr                23\n",
      "holiday            1\n",
      "weekday            6\n",
      "workingday         1\n",
      "weathersit         4\n",
      "temp             1.0\n",
      "atemp            1.0\n",
      "hum              1.0\n",
      "windspeed     0.8507\n",
      "cnt              977\n",
      "dtype: object\n",
      "\n",
      "Мінімальне значення по всім зміним:\n",
      "index              1\n",
      "date          1/1/11\n",
      "season        autumn\n",
      "yr                 0\n",
      "mnth               1\n",
      "hr                 0\n",
      "holiday            0\n",
      "weekday            0\n",
      "workingday         0\n",
      "weathersit         1\n",
      "temp            0.02\n",
      "atemp            0.0\n",
      "hum              0.0\n",
      "windspeed        0.0\n",
      "cnt                1\n",
      "dtype: object\n",
      "\n",
      "Розмірність датасету:\n",
      "(17379, 15)\n"
     ]
    }
   ],
   "source": [
    "data = get_data(data_path=\"motorbike_ambulance_calls.csv\")\n",
    "\n",
    "print(f\"Основна статистична інформація по числовим змінним:\\n{data.describe()}\\n\")\n",
    "print(f\"Максимальне значення по всім зміним:\\n{data.max()}\\n\")\n",
    "print(f\"Мінімальне значення по всім зміним:\\n{data.min()}\\n\")\n",
    "print(f\"Розмірність датасету:\\n{data.shape}\")\n",
    "\n"
   ]
  },
  {
   "cell_type": "markdown",
   "metadata": {
    "id": "Ky9g0TdPOFYd"
   },
   "source": [
    "**Завдання 2** перевірити типи даних та перевірте кількість даних по кожній змінній."
   ]
  },
  {
   "cell_type": "code",
   "execution_count": 44,
   "metadata": {
    "id": "5ofgwU6IOFYe"
   },
   "outputs": [
    {
     "name": "stdout",
     "output_type": "stream",
     "text": [
      "<class 'pandas.core.frame.DataFrame'>\n",
      "RangeIndex: 17379 entries, 0 to 17378\n",
      "Data columns (total 15 columns):\n",
      " #   Column      Non-Null Count  Dtype  \n",
      "---  ------      --------------  -----  \n",
      " 0   index       17379 non-null  int64  \n",
      " 1   date        17379 non-null  object \n",
      " 2   season      17379 non-null  object \n",
      " 3   yr          17379 non-null  int64  \n",
      " 4   mnth        17379 non-null  int64  \n",
      " 5   hr          17379 non-null  int64  \n",
      " 6   holiday     17379 non-null  int64  \n",
      " 7   weekday     17379 non-null  int64  \n",
      " 8   workingday  17379 non-null  int64  \n",
      " 9   weathersit  17379 non-null  int64  \n",
      " 10  temp        17379 non-null  float64\n",
      " 11  atemp       17379 non-null  float64\n",
      " 12  hum         17379 non-null  float64\n",
      " 13  windspeed   17379 non-null  float64\n",
      " 14  cnt         17379 non-null  int64  \n",
      "dtypes: float64(4), int64(9), object(2)\n",
      "memory usage: 2.0+ MB\n",
      "Тип даних та кількість даних по кожній змінній:\n",
      "None\n"
     ]
    }
   ],
   "source": [
    "print(f\"Тип даних та кількість даних по кожній змінній:\\n{data.info()}\")"
   ]
  },
  {
   "cell_type": "markdown",
   "metadata": {
    "id": "DINUFxTsOFYe"
   },
   "source": [
    "**Завдання 3** пепевірте всі змінні на наявність пропусків."
   ]
  },
  {
   "cell_type": "code",
   "execution_count": 45,
   "metadata": {
    "id": "PFa4iiowOFYe"
   },
   "outputs": [
    {
     "name": "stdout",
     "output_type": "stream",
     "text": [
      "index         0\n",
      "date          0\n",
      "season        0\n",
      "yr            0\n",
      "mnth          0\n",
      "hr            0\n",
      "holiday       0\n",
      "weekday       0\n",
      "workingday    0\n",
      "weathersit    0\n",
      "temp          0\n",
      "atemp         0\n",
      "hum           0\n",
      "windspeed     0\n",
      "cnt           0\n",
      "dtype: int64\n"
     ]
    }
   ],
   "source": [
    "print(data.isnull().sum())"
   ]
  },
  {
   "cell_type": "markdown",
   "metadata": {
    "id": "fJadTHp_PfVK"
   },
   "source": [
    "**Висновки з 1-3 завдання (детальні)**"
   ]
  },
  {
   "cell_type": "markdown",
   "metadata": {
    "id": "917TbDlJPuRO"
   },
   "source": [
    "\n",
    "\n",
    "1.   \n",
    "2.   \n",
    "3. ...\n",
    "\n"
   ]
  },
  {
   "cell_type": "markdown",
   "metadata": {
    "id": "x-vbKqLdOFYf"
   },
   "source": [
    "**Завдання 4** перетворіть змінну `date` в **date type**. Визначте часові межі датасету."
   ]
  },
  {
   "cell_type": "code",
   "execution_count": 46,
   "metadata": {
    "id": "fvpiaJGaOFYf"
   },
   "outputs": [
    {
     "name": "stderr",
     "output_type": "stream",
     "text": [
      "C:\\Users\\prosi\\AppData\\Local\\Temp\\ipykernel_7308\\1227536035.py:2: UserWarning: Could not infer format, so each element will be parsed individually, falling back to `dateutil`. To ensure parsing is consistent and as-expected, please specify a format.\n",
      "  df[date_col_name] = pd.to_datetime(df[date_col_name])\n"
     ]
    }
   ],
   "source": [
    "def tranform_date(df: pd.DataFrame, date_col_name: str):\n",
    "  df[date_col_name] = pd.to_datetime(df[date_col_name])\n",
    "  return df\n",
    "  \n",
    "data = tranform_date(data, 'date')\n",
    "\n",
    "\n"
   ]
  },
  {
   "cell_type": "code",
   "execution_count": 47,
   "metadata": {
    "id": "Er6MX_qXW7mF"
   },
   "outputs": [
    {
     "name": "stdout",
     "output_type": "stream",
     "text": [
      "First day of dataset - 2011-01-01 00:00:00.\n",
      "Last day of dataset - 2012-12-31 00:00:00\n"
     ]
    }
   ],
   "source": [
    "def get_time_limits(df: pd.DataFrame, date_col_name: str):\n",
    "  first_day = df[date_col_name].min()\n",
    "  last_day = df[date_col_name].max()\n",
    "  print(f\"First day of dataset - {first_day}.\\nLast day of dataset - {last_day}\")\n",
    "\n",
    "get_time_limits(data,'date')"
   ]
  },
  {
   "cell_type": "code",
   "execution_count": 48,
   "metadata": {
    "id": "bCq7E5z7OFYf"
   },
   "outputs": [],
   "source": [
    "#your conclusions"
   ]
  },
  {
   "cell_type": "markdown",
   "metadata": {
    "id": "t47EclTiQ7fS"
   },
   "source": [
    "#Аналіз категоріальних змінних"
   ]
  },
  {
   "cell_type": "markdown",
   "metadata": {
    "id": "hNQ7h5iuOFYf"
   },
   "source": [
    "**Завдання 5** виділити категоріальні змінні в окремий датасет\n",
    "\n",
    "\n",
    "\n",
    "\n",
    "\n"
   ]
  },
  {
   "cell_type": "code",
   "execution_count": 49,
   "metadata": {
    "id": "JY8QiSCcOFYg"
   },
   "outputs": [
    {
     "name": "stdout",
     "output_type": "stream",
     "text": [
      "   season  yr  mnth  hr  holiday  weekday  workingday  weathersit\n",
      "0  spring   0     1   0        0        6           0           1\n",
      "1  spring   0     1   1        0        6           0           1\n",
      "2  spring   0     1   2        0        6           0           1\n",
      "3  spring   0     1   3        0        6           0           1\n",
      "4  spring   0     1   4        0        6           0           1\n"
     ]
    }
   ],
   "source": [
    "data_categorical = ['season', 'yr', 'mnth', 'hr', 'holiday', 'weekday', 'workingday', 'weathersit']\n",
    "data_ct = data[data_categorical]\n",
    "print(data_ct.head(5))\n",
    "\n",
    "data_ct.to_csv(\"data_categorical.csv\")"
   ]
  },
  {
   "cell_type": "markdown",
   "metadata": {
    "id": "2fiDriKxOFYg"
   },
   "source": [
    "**Завдання 6** перетворіть змінну `season` в числову шкалу."
   ]
  },
  {
   "cell_type": "code",
   "execution_count": 58,
   "metadata": {
    "id": "SCIk-1AMRDqH"
   },
   "outputs": [
    {
     "name": "stdout",
     "output_type": "stream",
     "text": [
      "[1 2 3 4]\n"
     ]
    }
   ],
   "source": [
    "def encode_season(df: pd.DataFrame, season_col_name: str):\n",
    "  df[season_col_name] = data['season'].replace({'spring':1, 'summer':2, 'autumn':3, 'winter':4})\n",
    "  return df\n",
    "  \n",
    "data = encode_season(data, 'season')\n",
    "print(data['season'].unique())\n",
    "\n",
    "\n"
   ]
  },
  {
   "cell_type": "markdown",
   "metadata": {
    "id": "RPORQyRoOFYg"
   },
   "source": [
    "**Завдання 7** побудувати графіки `countplot` по всім категоріальним змінним"
   ]
  },
  {
   "cell_type": "code",
   "execution_count": 60,
   "metadata": {
    "id": "nnBYo2YrOFYh"
   },
   "outputs": [
    {
     "data": {
      "image/png": "[encoded data removed]",
      "text/plain": [
       "<Figure size 2000x1000 with 8 Axes>"
      ]
     },
     "metadata": {},
     "output_type": "display_data"
    }
   ],
   "source": [
    "fig, ax = plt.subplots(2, 4, figsize=(20, 10))\n",
    "for variable, subplot in zip(data_categorical, ax.flatten()):\n",
    "  sns.countplot(x=variable,data=data,ax=subplot)\n",
    "\n",
    "plt.show()"
   ]
  },
  {
   "cell_type": "markdown",
   "metadata": {
    "id": "Rx8E_9EXRbWF"
   },
   "source": [
    "**Висновки з 5-7 завдання (детальні)**"
   ]
  },
  {
   "cell_type": "markdown",
   "metadata": {
    "id": "2Nu4VpZPRbWP"
   },
   "source": [
    "\n",
    "\n",
    "1.   \n",
    "2.   \n",
    "3. ...\n",
    "\n"
   ]
  },
  {
   "cell_type": "markdown",
   "metadata": {
    "id": "MPRBUU2HRmId"
   },
   "source": [
    "#Аналіз числових змінних"
   ]
  },
  {
   "cell_type": "markdown",
   "metadata": {
    "id": "PfHcV5tIOFYh"
   },
   "source": [
    "**Завдання 8** виділити числові змінні в окремий датасет"
   ]
  },
  {
   "cell_type": "code",
   "execution_count": 61,
   "metadata": {
    "id": "GgCMFLdjOFYh"
   },
   "outputs": [
    {
     "name": "stdout",
     "output_type": "stream",
     "text": [
      "   temp   hum  windspeed  cnt\n",
      "0  0.24  0.81        0.0   16\n",
      "1  0.22  0.80        0.0   40\n",
      "2  0.22  0.80        0.0   32\n",
      "3  0.24  0.75        0.0   13\n",
      "4  0.24  0.75        0.0    1\n"
     ]
    }
   ],
   "source": [
    "data_numerical = ['temp','hum','windspeed','cnt']\n",
    "data_num = data[data_numerical]\n",
    "print(data_num.head(5))\n",
    "\n",
    "data_ct.to_csv(\"data_numerical.csv\")\n",
    "\n",
    "\n"
   ]
  },
  {
   "cell_type": "markdown",
   "metadata": {
    "id": "RoA2FaycOFYi"
   },
   "source": [
    "**Завдання 9** побудуйте гістограми розподілу по всім числовим змінним"
   ]
  },
  {
   "cell_type": "code",
   "execution_count": 62,
   "metadata": {
    "id": "KYYglRPzOFYi"
   },
   "outputs": [
    {
     "data": {
      "image/png": "[encoded data removed]",
      "text/plain": [
       "<Figure size 2000x1000 with 4 Axes>"
      ]
     },
     "metadata": {},
     "output_type": "display_data"
    }
   ],
   "source": [
    "fig, ax = plt.subplots(2, 2, figsize=(20, 10))\n",
    "for variable, subplot in zip(data_numerical, ax.flatten()):\n",
    "    sns.histplot(x=variable,data=data,ax=subplot)\n",
    "\n",
    "plt.show()\n",
    "\n",
    "\n",
    "#     for variable, subplot in zip(data_categorical, ax.flatten()):\n",
    "#   sns.countplot(x=variable,data=data,ax=subplot)"
   ]
  },
  {
   "cell_type": "markdown",
   "metadata": {
    "id": "j2i-eYdpOFYi"
   },
   "source": [
    "**Завдання 10** побудуйте гістограму розподілу цільової змінної та розрахуйте коефіціент нахилу"
   ]
  },
  {
   "cell_type": "code",
   "execution_count": null,
   "metadata": {
    "id": "FXcXUEGPOFYi"
   },
   "outputs": [],
   "source": [
    "#your code"
   ]
  },
  {
   "cell_type": "markdown",
   "metadata": {
    "id": "FMaDSFrySVnk"
   },
   "source": [
    "**Висновки з 8-10 завдання (детальні)**"
   ]
  },
  {
   "cell_type": "markdown",
   "metadata": {
    "id": "MxYx4wDLSVnu"
   },
   "source": [
    "\n",
    "\n",
    "1.   \n",
    "2.   \n",
    "3. ...\n",
    "\n"
   ]
  },
  {
   "cell_type": "markdown",
   "metadata": {
    "id": "tW6lRMmXSe37"
   },
   "source": [
    "#Аналіз взаємозв'язків між числовими і категоріальними змінними"
   ]
  },
  {
   "cell_type": "markdown",
   "metadata": {
    "id": "SVUUZyAMOFYj"
   },
   "source": [
    "**Завдання 11** побудуйте графіки співвідношення `scatterplot` між всіма числовими змінними і цільовою змінною `cnt`"
   ]
  },
  {
   "cell_type": "code",
   "execution_count": null,
   "metadata": {
    "id": "Mq59RzhGOFYj"
   },
   "outputs": [],
   "source": [
    "fig, ax = plt.subplots(2,2, figsize=(15, 10))\n",
    "for var, subplot in zip(data_numerical.drop('cnt', axis =1), ax.flatten()):\n",
    "  #your code"
   ]
  },
  {
   "cell_type": "markdown",
   "metadata": {
    "id": "y_fW_ZqCOFYj"
   },
   "source": [
    "**Завдання 12** побудуйте графіки співвідношення `boxplot`[boxplot](https://matplotlib.org/stable/gallery/statistics/boxplot_demo.html) між категоріальними змінними і цільовою змінною `cnt`."
   ]
  },
  {
   "cell_type": "code",
   "execution_count": null,
   "metadata": {
    "id": "S3TxCC3XOFYj"
   },
   "outputs": [],
   "source": [
    "fig, ax = plt.subplots(2, 4, figsize=(20, 10))\n",
    "for var, subplot in zip(data_categorical, ax.flatten()):\n",
    "  #your code"
   ]
  },
  {
   "cell_type": "markdown",
   "metadata": {
    "id": "g2Ry5dgQTMeG"
   },
   "source": [
    "**Висновки з 11-12 завдання (детальні)**"
   ]
  },
  {
   "cell_type": "markdown",
   "metadata": {
    "id": "tWtJbT5sTMeS"
   },
   "source": [
    "\n",
    "\n",
    "1.   \n",
    "2.   \n",
    "3. ...\n",
    "\n"
   ]
  },
  {
   "cell_type": "markdown",
   "metadata": {
    "id": "pp7mUJyUOFYj"
   },
   "source": [
    "**Завдання 13** Побудувати матрицю кореляції:  \n",
    "\n",
    "1.   Вирахувати кореляційні коефіціенти для набору данних за методом Пірсона\n",
    "2.   Відобразити отриману матрицю коефіціентів у вигляді теплокарти  \n",
    "3.   Вирахувати кореляційні коефіціенти для набору данних за методом Спірмана\n",
    "4.   Відобразити отриману матрицю коефіціентів у вигляді теплокарти\n",
    "\n",
    "5. Описати отримані результати, спираючись на значення коефіціентів кореляції та пояснити в чому відмінність обраних методів."
   ]
  },
  {
   "cell_type": "code",
   "execution_count": null,
   "metadata": {
    "id": "H_jTQTC9OFYk"
   },
   "outputs": [],
   "source": [
    "#your code"
   ]
  },
  {
   "cell_type": "code",
   "execution_count": null,
   "metadata": {
    "id": "ZsJyxSauOFYk"
   },
   "outputs": [],
   "source": [
    "#your conclusions "
   ]
  },
  {
   "cell_type": "markdown",
   "metadata": {
    "id": "f_DldEV1OFYk"
   },
   "source": [
    "**Завдання 14** \n",
    "1. побудувати модель лінійної регресії:\n",
    "2. видалити змінні, які НЕ є релевантними;\n",
    "\n",
    "3. поділити вибірку на `train`, `test` та `validation` в пропорції `70/30`;  \n",
    "\n",
    "4. провести навчання моделі лінійної регресії;"
   ]
  },
  {
   "cell_type": "markdown",
   "metadata": {
    "id": "NIcZXn-wUmJL"
   },
   "source": [
    "1. Для подальшої роботи з моделями для кожної категоріальної змінної ми створимо фіктивні змінні, щоб уникнути неправильного порядку категорій. [get_dummies](https://pandas.pydata.org/pandas-docs/stable/reference/api/pandas.get_dummies.html)"
   ]
  },
  {
   "cell_type": "code",
   "execution_count": null,
   "metadata": {
    "id": "l7LAkoqcOFYk"
   },
   "outputs": [],
   "source": [
    "def get_dummies(df: pd.DataFrame):\n",
    "  features = pd.concat([df,\n",
    "                      # example:\n",
    "                      pd.get_dummies(df['season']),\n",
    "                      #YOUR CODE\n",
    "                      ], axis = 1\n",
    "                     )\n",
    "  features = features.drop(['season',\n",
    "                            'mnth', \n",
    "                            'weekday', \n",
    "                            'weathersit'\n",
    "                            ], axis = 1)\n",
    "  return fetures"
   ]
  },
  {
   "cell_type": "code",
   "execution_count": null,
   "metadata": {
    "id": "Va2Y_GFfOFYk"
   },
   "outputs": [],
   "source": [
    "features = get_dummies(data)"
   ]
  },
  {
   "cell_type": "markdown",
   "metadata": {
    "id": "GyDiLOCwarGI"
   },
   "source": [
    "2. На основі змінної часу створіть нову змінну, яка відповідатиме за день і ніч."
   ]
  },
  {
   "cell_type": "code",
   "execution_count": null,
   "metadata": {
    "id": "G1w36q_jauUE"
   },
   "outputs": [],
   "source": [
    "features['night_hours'] = #your code\n",
    "features = features.drop('hr', axis = 1)"
   ]
  },
  {
   "cell_type": "markdown",
   "metadata": {
    "id": "V9I2zAKpbWGB"
   },
   "source": [
    "**Модель лінійної регрессії  \n",
    "\n",
    "[train_linear_model](https://scikit-learn.org/stable/modules/generated/sklearn.linear_model.LinearRegression.html)"
   ]
  },
  {
   "cell_type": "markdown",
   "metadata": {
    "id": "W4gkM20abtHh"
   },
   "source": [
    "Після отримання фіктивних змінних потрібно видалити по одній з кожної категорії, щоб запобігти мультиколінеарності. Також видаляємо ще два атрибути `date` та `atemp` - поясніть чому?"
   ]
  },
  {
   "cell_type": "code",
   "execution_count": null,
   "metadata": {
    "id": "lLQK9t5eb81Q"
   },
   "outputs": [],
   "source": [
    "features_lr = features.drop(['spring', 'mnth_4', 'weekday_0', 'weathersit_1', 'hr_0','atemp', 'date'], axis = 1)"
   ]
  },
  {
   "cell_type": "code",
   "execution_count": null,
   "metadata": {
    "id": "IUPl4bsCc0_G"
   },
   "outputs": [],
   "source": [
    "def get_train_data(df: pd.DataFrame, target:str, test_size:float):\n",
    "  X = #your code (all features)\n",
    "  y = #your code (target variable)\n",
    "  X_train, X_test, y_train, y_test =  train_test_split(X, y, test_size=test_size, random_state=42, shuffle = True)\n",
    "  return X_train, X_test, y_train, y_test"
   ]
  },
  {
   "cell_type": "code",
   "execution_count": null,
   "metadata": {
    "id": "Kf2GXp0Odr1w"
   },
   "outputs": [],
   "source": [
    "X_train, X_test, y_train, y_test = get_train_data(features_lr, 'cnt', 0.3)"
   ]
  },
  {
   "cell_type": "code",
   "execution_count": null,
   "metadata": {
    "id": "wFEgPbUHeUTh"
   },
   "outputs": [],
   "source": [
    "def train_linear_model(X_train, y_train):\n",
    "  model = LinearRegression()\n",
    "  model.fit(X_train, y_train)\n",
    "  return model\n",
    "\n",
    "model = train_linear_model(X_train, y_train)"
   ]
  },
  {
   "cell_type": "code",
   "execution_count": null,
   "metadata": {
    "id": "Inc9iPCXfChd"
   },
   "outputs": [],
   "source": [
    "# predict\n",
    "y_train_pred = model.predict(X_train)\n",
    "y_test_pred = model.predict(X_test)\n",
    "# scores\n",
    "print('MSE train: {:.3f}, test: {:.3f}'.format(\n",
    "        mean_squared_error(y_train, y_train_pred),\n",
    "        mean_squared_error(y_test, y_test_pred)))\n",
    "print('R^2 train: {:.3f}, test: {:.3f}'.format(\n",
    "        r2_score(y_train, y_train_pred),\n",
    "        r2_score(y_test, y_test_pred)))"
   ]
  },
  {
   "cell_type": "markdown",
   "metadata": {
    "id": "ycH4zmgTf17J"
   },
   "source": [
    "Оскільки в нашій моделі є багато незалежних змінних, ми не можемо відобразити їх залежність у двовимірному просторі, але ми можемо побудувати графік взаємозв'язку між залишками моделі та передбачуваними значеннями, що також допоможе нам оцінити якість моделі."
   ]
  },
  {
   "cell_type": "code",
   "execution_count": null,
   "metadata": {
    "id": "8g0Q8AZ6f0mY"
   },
   "outputs": [],
   "source": [
    "plt.scatter(y_train_pred,  y_train_pred - y_train,\n",
    "            c='#5f93ad', marker='o', label='Training data')\n",
    "plt.scatter(y_test_pred,  y_test_pred - y_test,\n",
    "            c='#98c3d9', marker='s', label='Test data')\n",
    "plt.xlabel('Predicted values')\n",
    "plt.ylabel('Residuals')\n",
    "plt.legend(loc='upper left')\n",
    "plt.hlines(y=0, xmin=-220, xmax=1000, lw=2, color='#000000')\n",
    "plt.tight_layout()"
   ]
  },
  {
   "cell_type": "markdown",
   "metadata": {
    "id": "FhsJB-8WgM4d"
   },
   "source": [
    "**Висновки з завдання (детальні)**"
   ]
  },
  {
   "cell_type": "markdown",
   "metadata": {
    "id": "AKUUhjrxgM4e"
   },
   "source": [
    "\n",
    "\n",
    "1.   \n",
    "2.   \n",
    "3. ...\n",
    "\n"
   ]
  }
 ],
 "metadata": {
  "colab": {
   "name": "Task4_Regression_basicAI.ipynb",
   "provenance": []
  },
  "kernelspec": {
   "display_name": "Python 3",
   "language": "python",
   "name": "python3"
  },
  "language_info": {
   "codemirror_mode": {
    "name": "ipython",
    "version": 3
   },
   "file_extension": ".py",
   "mimetype": "text/x-python",
   "name": "python",
   "nbconvert_exporter": "python",
   "pygments_lexer": "ipython3",
   "version": "3.12.0"
  }
 },
 "nbformat": 4,
 "nbformat_minor": 4
}
